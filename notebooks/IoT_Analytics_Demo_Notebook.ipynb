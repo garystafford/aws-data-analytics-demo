{
 "cells": [
  {
   "cell_type": "markdown",
   "metadata": {
    "pycharm": {
     "name": "#%% md\n"
    }
   },
   "source": [
    "# IIoT Data Analytics Notebook (Spark)\n",
    "Demonstration of [AWS IoT Analytics](https://aws.amazon.com/iot-analytics/) Notebooks, using real-time sensor data."
   ]
  },
  {
   "cell_type": "code",
   "execution_count": 1,
   "metadata": {},
   "outputs": [],
   "source": [
    "import boto3\n",
    "import json\n",
    "import matplotlib.pyplot as plt\n",
    "import pandas as pd\n",
    "import plotly.express as px\n",
    "from matplotlib.dates import DateFormatter\n",
    "from pandas.plotting import register_matplotlib_converters"
   ]
  },
  {
   "cell_type": "code",
   "execution_count": 2,
   "metadata": {},
   "outputs": [],
   "source": [
    "# constants\n",
    "MY_TIMEZONE='US/Eastern'\n",
    "DATETIME_FORMAT='%y-%m-%d %H:%M'"
   ]
  },
  {
   "cell_type": "code",
   "execution_count": 3,
   "metadata": {},
   "outputs": [],
   "source": [
    "def parse(x):\n",
    "    x = pd.to_datetime(x, infer_datetime_format=True, unit='s', utc=True)\n",
    "    x = x.tz_convert(MY_TIMEZONE)\n",
    "    return x"
   ]
  },
  {
   "cell_type": "code",
   "execution_count": 4,
   "metadata": {},
   "outputs": [
    {
     "name": "stdout",
     "output_type": "stream",
     "text": [
      "CPU times: user 76.2 ms, sys: 20.9 ms, total: 97.1 ms\n",
      "Wall time: 340 ms\n"
     ]
    }
   ],
   "source": [
    "%%time\n",
    "\n",
    "client = boto3.client('iotanalytics')\n",
    "dataset = 'iot_analytics_data_set'\n",
    "data_location = client.get_dataset_content(datasetName=dataset)['entries'][0]['dataURI']\n",
    "df = pd.read_csv(data_location,\n",
    "                 header=0,\n",
    "                 low_memory=False,\n",
    "                 infer_datetime_format=True,\n",
    "                 date_parser=parse,\n",
    "                 index_col=['ts'])"
   ]
  },
  {
   "cell_type": "code",
   "execution_count": 5,
   "metadata": {},
   "outputs": [],
   "source": [
    "# clean up DataFrame\n",
    "df = df.drop(columns='__dt')\n",
    "df = df.sort_values(by='ts', ascending=True)"
   ]
  },
  {
   "cell_type": "code",
   "execution_count": 6,
   "metadata": {},
   "outputs": [],
   "source": [
    "# transform metadata to valid json object\n",
    "df['metadata'].replace('{','{\"',regex=True, inplace = True)\n",
    "df['metadata'].replace('=','\":\"',regex=True, inplace = True)\n",
    "df['metadata'].replace(', ','\",\"',regex=True, inplace = True)\n",
    "df['metadata'].replace(':\"{\"',':{\"',regex=True, inplace = True)\n",
    "df['metadata'].replace('}\",','},',regex=True, inplace = True)\n",
    "df['metadata'].replace('}','\"}',regex=True, inplace = True)"
   ]
  },
  {
   "cell_type": "code",
   "execution_count": 10,
   "metadata": {},
   "outputs": [
    {
     "name": "stdout",
     "output_type": "stream",
     "text": [
      "                                            device  humidity   temp  light  \\\n",
      "ts                                                                           \n",
      "2020-07-11 15:38:57.142367125-04:00  iot-device-02      51.9  71.06  False   \n",
      "2020-07-11 15:38:57.142367125-04:00  iot-device-02      51.9  71.06  False   \n",
      "2020-07-11 15:38:57.142367125-04:00  iot-device-02      51.9  71.06  False   \n",
      "2020-07-11 15:38:57.142367125-04:00  iot-device-02      51.9  71.06  False   \n",
      "2020-07-11 15:38:57.142367125-04:00  iot-device-02      51.9  71.06  False   \n",
      "\n",
      "                                     motion       lpg        co     smoke  \\\n",
      "ts                                                                          \n",
      "2020-07-11 15:38:57.142367125-04:00   False  0.007664  0.004968  0.020449   \n",
      "2020-07-11 15:38:57.142367125-04:00   False  0.007664  0.004968  0.020449   \n",
      "2020-07-11 15:38:57.142367125-04:00   False  0.007664  0.004968  0.020449   \n",
      "2020-07-11 15:38:57.142367125-04:00   False  0.007664  0.004968  0.020449   \n",
      "2020-07-11 15:38:57.142367125-04:00   False  0.007664  0.004968  0.020449   \n",
      "\n",
      "                                     installed  \\\n",
      "ts                                               \n",
      "2020-07-11 15:38:57.142367125-04:00        NaN   \n",
      "2020-07-11 15:38:57.142367125-04:00        NaN   \n",
      "2020-07-11 15:38:57.142367125-04:00        NaN   \n",
      "2020-07-11 15:38:57.142367125-04:00        NaN   \n",
      "2020-07-11 15:38:57.142367125-04:00        NaN   \n",
      "\n",
      "                                                                              metadata  \n",
      "ts                                                                                      \n",
      "2020-07-11 15:38:57.142367125-04:00  {\"defaultclientid\":\"iot-device-02\",\"thingname\"...  \n",
      "2020-07-11 15:38:57.142367125-04:00  {\"defaultclientid\":\"iot-device-02\",\"thingname\"...  \n",
      "2020-07-11 15:38:57.142367125-04:00  {\"defaultclientid\":\"iot-device-02\",\"thingname\"...  \n",
      "2020-07-11 15:38:57.142367125-04:00  {\"defaultclientid\":\"iot-device-02\",\"thingname\"...  \n",
      "2020-07-11 15:38:57.142367125-04:00  {\"defaultclientid\":\"iot-device-02\",\"thingname\"...  \n"
     ]
    }
   ],
   "source": [
    "print(df.head(5))"
   ]
  },
  {
   "cell_type": "code",
   "execution_count": 11,
   "metadata": {},
   "outputs": [
    {
     "name": "stdout",
     "output_type": "stream",
     "text": [
      "iot-device-02\n"
     ]
    }
   ],
   "source": [
    "metadata = pd.read_json(df['metadata'][0], orient='records', typ='series')\n",
    "print(metadata['thingname'])"
   ]
  },
  {
   "cell_type": "code",
   "execution_count": 12,
   "metadata": {},
   "outputs": [],
   "source": [
    "# filter time range\n",
    "#df_filtered = df.loc[df.index >= pd.Timestamp('today', tz=MY_TIMEZONE).floor('D') + pd.Timedelta(-1, unit='D')]\n",
    "df_filtered = df.loc[df.index >= pd.Timestamp('today', tz=MY_TIMEZONE) + pd.Timedelta(-1, unit='D')] # last 24 hours\n",
    "#df_filtered = df.tail(10000) # fixed amount of records"
   ]
  },
  {
   "cell_type": "code",
   "execution_count": 13,
   "metadata": {},
   "outputs": [],
   "source": [
    "# filter temp/humidity outliers (>1% & <99%)\n",
    "df_filtered = df_filtered.loc[df_filtered['temp'] > df_filtered.groupby('device').temp.transform(lambda x: x.quantile(.01))]\n",
    "df_filtered = df_filtered.loc[df_filtered['temp'] < df_filtered.groupby('device').temp.transform(lambda x: x.quantile(.99))]\n",
    "df_filtered = df_filtered.loc[df_filtered['humidity'] > df_filtered.groupby('device').humidity.transform(lambda x: x.quantile(.01))]\n",
    "df_filtered = df_filtered.loc[df_filtered['humidity'] < df_filtered.groupby('device').humidity.transform(lambda x: x.quantile(.99))]"
   ]
  },
  {
   "cell_type": "code",
   "execution_count": 14,
   "metadata": {},
   "outputs": [],
   "source": [
    "# group by device\n",
    "# df_filtered = df_filtered.loc[df_filtered['device'] == 'iot-demo-device-01']\n",
    "groups = df_filtered.groupby('device')"
   ]
  },
  {
   "cell_type": "code",
   "execution_count": 15,
   "metadata": {},
   "outputs": [
    {
     "name": "stdout",
     "output_type": "stream",
     "text": [
      "Filtered DataFrame Range\n",
      "-------------\n",
      "Record count: 0\n",
      "-------------\n"
     ]
    },
    {
     "ename": "IndexError",
     "evalue": "index 1 is out of bounds for axis 0 with size 0",
     "output_type": "error",
     "traceback": [
      "\u001b[0;31m---------------------------------------------------------------------------\u001b[0m",
      "\u001b[0;31mIndexError\u001b[0m                                Traceback (most recent call last)",
      "\u001b[0;32m<ipython-input-15-e591ac58c659>\u001b[0m in \u001b[0;36m<module>\u001b[0;34m\u001b[0m\n\u001b[1;32m      3\u001b[0m \u001b[0mprint\u001b[0m\u001b[0;34m(\u001b[0m\u001b[0;34m'Record count: {:,}'\u001b[0m\u001b[0;34m.\u001b[0m\u001b[0mformat\u001b[0m\u001b[0;34m(\u001b[0m\u001b[0mdf_filtered\u001b[0m\u001b[0;34m[\u001b[0m\u001b[0;34m'temp'\u001b[0m\u001b[0;34m]\u001b[0m\u001b[0;34m.\u001b[0m\u001b[0mcount\u001b[0m\u001b[0;34m(\u001b[0m\u001b[0;34m)\u001b[0m\u001b[0;34m)\u001b[0m\u001b[0;34m)\u001b[0m\u001b[0;34m\u001b[0m\u001b[0;34m\u001b[0m\u001b[0m\n\u001b[1;32m      4\u001b[0m \u001b[0mprint\u001b[0m\u001b[0;34m(\u001b[0m\u001b[0;34m'-------------'\u001b[0m\u001b[0;34m)\u001b[0m\u001b[0;34m\u001b[0m\u001b[0;34m\u001b[0m\u001b[0m\n\u001b[0;32m----> 5\u001b[0;31m \u001b[0mprint\u001b[0m\u001b[0;34m(\u001b[0m\u001b[0;34m'Time range (min): {:%Y-%m-%d %H:%M:%S %Z}'\u001b[0m\u001b[0;34m.\u001b[0m\u001b[0mformat\u001b[0m\u001b[0;34m(\u001b[0m\u001b[0mdf_filtered\u001b[0m\u001b[0;34m.\u001b[0m\u001b[0mindex\u001b[0m\u001b[0;34m[\u001b[0m\u001b[0;36m1\u001b[0m\u001b[0;34m]\u001b[0m\u001b[0;34m)\u001b[0m\u001b[0;34m)\u001b[0m\u001b[0;34m\u001b[0m\u001b[0;34m\u001b[0m\u001b[0m\n\u001b[0m\u001b[1;32m      6\u001b[0m \u001b[0mprint\u001b[0m\u001b[0;34m(\u001b[0m\u001b[0;34m'Time range (max): {:%Y-%m-%d %H:%M:%S %Z}'\u001b[0m\u001b[0;34m.\u001b[0m\u001b[0mformat\u001b[0m\u001b[0;34m(\u001b[0m\u001b[0mdf_filtered\u001b[0m\u001b[0;34m.\u001b[0m\u001b[0mindex\u001b[0m\u001b[0;34m[\u001b[0m\u001b[0;34m-\u001b[0m\u001b[0;36m1\u001b[0m\u001b[0;34m]\u001b[0m\u001b[0;34m)\u001b[0m\u001b[0;34m)\u001b[0m\u001b[0;34m\u001b[0m\u001b[0;34m\u001b[0m\u001b[0m\n\u001b[1;32m      7\u001b[0m \u001b[0mprint\u001b[0m\u001b[0;34m(\u001b[0m\u001b[0;34m'Temperature (min): {:.2f}'\u001b[0m\u001b[0;34m.\u001b[0m\u001b[0mformat\u001b[0m\u001b[0;34m(\u001b[0m\u001b[0mdf_filtered\u001b[0m\u001b[0;34m[\u001b[0m\u001b[0;34m'temp'\u001b[0m\u001b[0;34m]\u001b[0m\u001b[0;34m.\u001b[0m\u001b[0mmin\u001b[0m\u001b[0;34m(\u001b[0m\u001b[0;34m)\u001b[0m\u001b[0;34m)\u001b[0m\u001b[0;34m)\u001b[0m\u001b[0;34m\u001b[0m\u001b[0;34m\u001b[0m\u001b[0m\n",
      "\u001b[0;32m~/anaconda3/envs/python3/lib/python3.6/site-packages/pandas/core/indexes/extension.py\u001b[0m in \u001b[0;36m__getitem__\u001b[0;34m(self, key)\u001b[0m\n\u001b[1;32m    207\u001b[0m \u001b[0;34m\u001b[0m\u001b[0m\n\u001b[1;32m    208\u001b[0m     \u001b[0;32mdef\u001b[0m \u001b[0m__getitem__\u001b[0m\u001b[0;34m(\u001b[0m\u001b[0mself\u001b[0m\u001b[0;34m,\u001b[0m \u001b[0mkey\u001b[0m\u001b[0;34m)\u001b[0m\u001b[0;34m:\u001b[0m\u001b[0;34m\u001b[0m\u001b[0;34m\u001b[0m\u001b[0m\n\u001b[0;32m--> 209\u001b[0;31m         \u001b[0mresult\u001b[0m \u001b[0;34m=\u001b[0m \u001b[0mself\u001b[0m\u001b[0;34m.\u001b[0m\u001b[0m_data\u001b[0m\u001b[0;34m[\u001b[0m\u001b[0mkey\u001b[0m\u001b[0;34m]\u001b[0m\u001b[0;34m\u001b[0m\u001b[0;34m\u001b[0m\u001b[0m\n\u001b[0m\u001b[1;32m    210\u001b[0m         \u001b[0;32mif\u001b[0m \u001b[0misinstance\u001b[0m\u001b[0;34m(\u001b[0m\u001b[0mresult\u001b[0m\u001b[0;34m,\u001b[0m \u001b[0mtype\u001b[0m\u001b[0;34m(\u001b[0m\u001b[0mself\u001b[0m\u001b[0;34m.\u001b[0m\u001b[0m_data\u001b[0m\u001b[0;34m)\u001b[0m\u001b[0;34m)\u001b[0m\u001b[0;34m:\u001b[0m\u001b[0;34m\u001b[0m\u001b[0;34m\u001b[0m\u001b[0m\n\u001b[1;32m    211\u001b[0m             \u001b[0;32mreturn\u001b[0m \u001b[0mtype\u001b[0m\u001b[0;34m(\u001b[0m\u001b[0mself\u001b[0m\u001b[0;34m)\u001b[0m\u001b[0;34m(\u001b[0m\u001b[0mresult\u001b[0m\u001b[0;34m,\u001b[0m \u001b[0mname\u001b[0m\u001b[0;34m=\u001b[0m\u001b[0mself\u001b[0m\u001b[0;34m.\u001b[0m\u001b[0mname\u001b[0m\u001b[0;34m)\u001b[0m\u001b[0;34m\u001b[0m\u001b[0;34m\u001b[0m\u001b[0m\n",
      "\u001b[0;32m~/anaconda3/envs/python3/lib/python3.6/site-packages/pandas/core/arrays/datetimelike.py\u001b[0m in \u001b[0;36m__getitem__\u001b[0;34m(self, key)\u001b[0m\n\u001b[1;32m    512\u001b[0m         \u001b[0mgetitem\u001b[0m \u001b[0;34m=\u001b[0m \u001b[0mself\u001b[0m\u001b[0;34m.\u001b[0m\u001b[0m_data\u001b[0m\u001b[0;34m.\u001b[0m\u001b[0m__getitem__\u001b[0m\u001b[0;34m\u001b[0m\u001b[0;34m\u001b[0m\u001b[0m\n\u001b[1;32m    513\u001b[0m         \u001b[0;32mif\u001b[0m \u001b[0mis_int\u001b[0m\u001b[0;34m:\u001b[0m\u001b[0;34m\u001b[0m\u001b[0;34m\u001b[0m\u001b[0m\n\u001b[0;32m--> 514\u001b[0;31m             \u001b[0mval\u001b[0m \u001b[0;34m=\u001b[0m \u001b[0mgetitem\u001b[0m\u001b[0;34m(\u001b[0m\u001b[0mkey\u001b[0m\u001b[0;34m)\u001b[0m\u001b[0;34m\u001b[0m\u001b[0;34m\u001b[0m\u001b[0m\n\u001b[0m\u001b[1;32m    515\u001b[0m             \u001b[0;32mif\u001b[0m \u001b[0mlib\u001b[0m\u001b[0;34m.\u001b[0m\u001b[0mis_scalar\u001b[0m\u001b[0;34m(\u001b[0m\u001b[0mval\u001b[0m\u001b[0;34m)\u001b[0m\u001b[0;34m:\u001b[0m\u001b[0;34m\u001b[0m\u001b[0;34m\u001b[0m\u001b[0m\n\u001b[1;32m    516\u001b[0m                 \u001b[0;31m# i.e. self.ndim == 1\u001b[0m\u001b[0;34m\u001b[0m\u001b[0;34m\u001b[0m\u001b[0;34m\u001b[0m\u001b[0m\n",
      "\u001b[0;31mIndexError\u001b[0m: index 1 is out of bounds for axis 0 with size 0"
     ]
    }
   ],
   "source": [
    "print('Filtered DataFrame Range')\n",
    "print('-------------')\n",
    "print('Record count: {:,}'.format(df_filtered['temp'].count()))\n",
    "print('-------------')\n",
    "print('Time range (min): {:%Y-%m-%d %H:%M:%S %Z}'.format(df_filtered.index[1]))\n",
    "print('Time range (max): {:%Y-%m-%d %H:%M:%S %Z}'.format(df_filtered.index[-1]))\n",
    "print('Temperature (min): {:.2f}'.format(df_filtered['temp'].min()))\n",
    "print('Temperature (max): {:.2f}'.format(df_filtered['temp'].max()))\n",
    "print('Humidity (min): {:.2f}{}'.format(df_filtered['humidity'].min(), '%'))\n",
    "print('Humidity (max): {:.2f}{}'.format(df_filtered['humidity'].max(), '%'))\n",
    "print('-------------')\n",
    "print('Record count:\\n{}'.format(groups.size()))\n",
    "print('Temperature (min):\\n{}'.format(groups['temp'].min()))\n",
    "print('Temperature (max):\\n{}'.format(groups['temp'].max()))\n",
    "print('Humidity (min)\\n{}'.format(groups['humidity'].min()))\n",
    "print('Humidity (max):\\n{}'.format(groups['humidity'].max()))"
   ]
  },
  {
   "cell_type": "code",
   "execution_count": 16,
   "metadata": {},
   "outputs": [],
   "source": [
    "# matplotlib datetime config\n",
    "plt.rcParams['timezone']=MY_TIMEZONE\n",
    "register_matplotlib_converters()\n",
    "myFmt = DateFormatter(DATETIME_FORMAT)"
   ]
  },
  {
   "cell_type": "code",
   "execution_count": null,
   "metadata": {},
   "outputs": [],
   "source": [
    "_, ax = plt.subplots(1, 1, figsize=(18, 9))\n",
    "for device, group in groups:\n",
    "    ax.plot(group.temp,\n",
    "            group.humidity,\n",
    "            marker='o',\n",
    "            linestyle='',\n",
    "            alpha=.5,\n",
    "            ms=10,\n",
    "            label=device)\n",
    "ax.grid()\n",
    "ax.margins(0.05)\n",
    "ax.legend()\n",
    "plt.title('Temperature vs. Humidity')\n",
    "plt.xlabel('Temperature (˚F)')\n",
    "plt.ylabel('Humidity (%)')\n",
    "plt.show()"
   ]
  },
  {
   "cell_type": "code",
   "execution_count": null,
   "metadata": {
    "jupyter": {
     "outputs_hidden": false
    },
    "pycharm": {
     "name": "#%%\n"
    }
   },
   "outputs": [],
   "source": [
    "fig, ax = plt.subplots(1, 1, figsize=(18, 9))\n",
    "for device, group in groups:\n",
    "    ax.plot(group.temp,\n",
    "            label=device)\n",
    "fig.autofmt_xdate()\n",
    "ax.xaxis.set_major_formatter(myFmt)\n",
    "ax.grid()\n",
    "ax.margins(0.05)\n",
    "ax.legend()\n",
    "plt.title('Temperature')\n",
    "plt.ylabel('Temperature (˚F)')\n",
    "plt.xlabel('Time')\n",
    "plt.show()"
   ]
  },
  {
   "cell_type": "code",
   "execution_count": null,
   "metadata": {},
   "outputs": [],
   "source": [
    "fig, ax = plt.subplots(1, 1, figsize=(18, 9))\n",
    "for device, group in groups:\n",
    "    ax.plot(group.humidity,\n",
    "            label=device)\n",
    "fig.autofmt_xdate()\n",
    "ax.xaxis.set_major_formatter(myFmt)\n",
    "ax.grid()\n",
    "ax.margins(0.05)\n",
    "ax.legend()\n",
    "plt.title('Humidity')\n",
    "plt.ylabel('Humidity (%)')\n",
    "plt.xlabel('Time')\n",
    "plt.show()"
   ]
  },
  {
   "cell_type": "code",
   "execution_count": null,
   "metadata": {},
   "outputs": [],
   "source": [
    "# strip timezone info so Plotly won't convert to UTC\n",
    "df_filtered.index = df_filtered.index.tz_localize(None)\n",
    "\n",
    "fig = px.scatter(df_filtered,\n",
    "                 x='temp',\n",
    "                 y='humidity',\n",
    "                 color='device',\n",
    "                 hover_name='device',\n",
    "                 hover_data={'device': False,\n",
    "                             'temp':':.2f',\n",
    "                             'humidity':':.2f'})\n",
    "\n",
    "fig.update_layout(title='Temperature vs. Humidity',\n",
    "                  xaxis_title='Temperature (˚F)',\n",
    "                  yaxis_title='Humidity (%)',\n",
    "                  template='ggplot2')\n",
    "\n",
    "fig.show()"
   ]
  },
  {
   "cell_type": "code",
   "execution_count": null,
   "metadata": {},
   "outputs": [],
   "source": [
    "fig = px.line(df_filtered,\n",
    "              x=df_filtered.index.values,\n",
    "              y='temp',\n",
    "              color='device',\n",
    "              hover_name='device',\n",
    "              hover_data={'device': False,\n",
    "                             'temp':':.2f'})\n",
    "\n",
    "fig.update_layout(title='Temperature',\n",
    "                  xaxis_title='Date/Time',\n",
    "                  yaxis_title='Temperature (˚F)',\n",
    "                  template='ggplot2')\n",
    "\n",
    "fig.show()"
   ]
  },
  {
   "cell_type": "code",
   "execution_count": null,
   "metadata": {},
   "outputs": [],
   "source": [
    "fig = px.line(df_filtered,\n",
    "              x=df_filtered.index.values,\n",
    "              y='humidity',\n",
    "              color='device',\n",
    "              hover_name='device',\n",
    "              hover_data={'device': False,\n",
    "                          'humidity':':.2f'})\n",
    "\n",
    "fig.update_layout(title='Humidity',\n",
    "                  xaxis_title='Time',\n",
    "                  yaxis_title='Humidity (%)',\n",
    "                  template='ggplot2')\n",
    "\n",
    "fig.show()"
   ]
  },
  {
   "cell_type": "code",
   "execution_count": null,
   "metadata": {},
   "outputs": [],
   "source": [
    "fig = px.scatter(df_filtered,\n",
    "                 x=df_filtered.index.values,\n",
    "                 y='light',\n",
    "                 color='device')\n",
    "\n",
    "fig.update_layout(title='Humidity',\n",
    "                  xaxis_title='Time',\n",
    "                  yaxis_title='Humidity (%)',\n",
    "                  template='ggplot2')\n",
    "\n",
    "fig.show()"
   ]
  }
 ],
 "metadata": {
  "kernelspec": {
   "display_name": "conda_python3",
   "language": "python",
   "name": "conda_python3"
  },
  "language_info": {
   "codemirror_mode": {
    "name": "ipython",
    "version": 3
   },
   "file_extension": ".py",
   "mimetype": "text/x-python",
   "name": "python",
   "nbconvert_exporter": "python",
   "pygments_lexer": "ipython3",
   "version": "3.6.10"
  },
  "toc-autonumbering": false,
  "toc-showmarkdowntxt": true,
  "toc-showtags": false
 },
 "nbformat": 4,
 "nbformat_minor": 4
}
